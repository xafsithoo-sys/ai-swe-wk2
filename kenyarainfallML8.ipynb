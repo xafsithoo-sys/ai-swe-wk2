{
  "nbformat": 4,
  "nbformat_minor": 0,
  "metadata": {
    "colab": {
      "provenance": [],
      "authorship_tag": "ABX9TyPQgaRtXDuEx6AfZ+/+46+k",
      "include_colab_link": true
    },
    "kernelspec": {
      "name": "python3",
      "display_name": "Python 3"
    },
    "language_info": {
      "name": "python"
    }
  },
  "cells": [
    {
      "cell_type": "markdown",
      "metadata": {
        "id": "view-in-github",
        "colab_type": "text"
      },
      "source": [
        "<a href=\"https://colab.research.google.com/github/xafsithoo-sys/ai-swe-wk2/blob/main/kenyarainfallML8.ipynb\" target=\"_parent\"><img src=\"https://colab.research.google.com/assets/colab-badge.svg\" alt=\"Open In Colab\"/></a>"
      ]
    },
    {
      "cell_type": "code",
      "execution_count": null,
      "metadata": {
        "colab": {
          "base_uri": "https://localhost:8080/",
          "height": 293
        },
        "id": "pacha_9bJJhQ",
        "outputId": "fd9e56c3-19d0-4acb-fe2e-723f06c31a6a"
      },
      "outputs": [
        {
          "output_type": "execute_result",
          "data": {
            "text/plain": [
              "         date  rainfall  temperature  humidity  wind_speed weather_condition\n",
              "0  2022-01-01      12.5         15.2      78.0         8.5             Rainy\n",
              "1  2022-01-02       8.2         17.8      65.0         5.2             Rainy\n",
              "2  2022-01-03       0.0         20.1      52.0         3.1             Sunny\n",
              "3  2022-01-04       3.7         18.6      71.0         6.7             Rainy\n",
              "4  2022-01-05      21.1         14.8      82.0         9.3             Rainy"
            ],
            "text/html": [
              "\n",
              "  <div id=\"df-e874268c-a2ff-4f9a-af38-64e4079d5001\" class=\"colab-df-container\">\n",
              "    <div>\n",
              "<style scoped>\n",
              "    .dataframe tbody tr th:only-of-type {\n",
              "        vertical-align: middle;\n",
              "    }\n",
              "\n",
              "    .dataframe tbody tr th {\n",
              "        vertical-align: top;\n",
              "    }\n",
              "\n",
              "    .dataframe thead th {\n",
              "        text-align: right;\n",
              "    }\n",
              "</style>\n",
              "<table border=\"1\" class=\"dataframe\">\n",
              "  <thead>\n",
              "    <tr style=\"text-align: right;\">\n",
              "      <th></th>\n",
              "      <th>date</th>\n",
              "      <th>rainfall</th>\n",
              "      <th>temperature</th>\n",
              "      <th>humidity</th>\n",
              "      <th>wind_speed</th>\n",
              "      <th>weather_condition</th>\n",
              "    </tr>\n",
              "  </thead>\n",
              "  <tbody>\n",
              "    <tr>\n",
              "      <th>0</th>\n",
              "      <td>2022-01-01</td>\n",
              "      <td>12.5</td>\n",
              "      <td>15.2</td>\n",
              "      <td>78.0</td>\n",
              "      <td>8.5</td>\n",
              "      <td>Rainy</td>\n",
              "    </tr>\n",
              "    <tr>\n",
              "      <th>1</th>\n",
              "      <td>2022-01-02</td>\n",
              "      <td>8.2</td>\n",
              "      <td>17.8</td>\n",
              "      <td>65.0</td>\n",
              "      <td>5.2</td>\n",
              "      <td>Rainy</td>\n",
              "    </tr>\n",
              "    <tr>\n",
              "      <th>2</th>\n",
              "      <td>2022-01-03</td>\n",
              "      <td>0.0</td>\n",
              "      <td>20.1</td>\n",
              "      <td>52.0</td>\n",
              "      <td>3.1</td>\n",
              "      <td>Sunny</td>\n",
              "    </tr>\n",
              "    <tr>\n",
              "      <th>3</th>\n",
              "      <td>2022-01-04</td>\n",
              "      <td>3.7</td>\n",
              "      <td>18.6</td>\n",
              "      <td>71.0</td>\n",
              "      <td>6.7</td>\n",
              "      <td>Rainy</td>\n",
              "    </tr>\n",
              "    <tr>\n",
              "      <th>4</th>\n",
              "      <td>2022-01-05</td>\n",
              "      <td>21.1</td>\n",
              "      <td>14.8</td>\n",
              "      <td>82.0</td>\n",
              "      <td>9.3</td>\n",
              "      <td>Rainy</td>\n",
              "    </tr>\n",
              "  </tbody>\n",
              "</table>\n",
              "</div>\n",
              "    <div class=\"colab-df-buttons\">\n",
              "\n",
              "  <div class=\"colab-df-container\">\n",
              "    <button class=\"colab-df-convert\" onclick=\"convertToInteractive('df-e874268c-a2ff-4f9a-af38-64e4079d5001')\"\n",
              "            title=\"Convert this dataframe to an interactive table.\"\n",
              "            style=\"display:none;\">\n",
              "\n",
              "  <svg xmlns=\"http://www.w3.org/2000/svg\" height=\"24px\" viewBox=\"0 -960 960 960\">\n",
              "    <path d=\"M120-120v-720h720v720H120Zm60-500h600v-160H180v160Zm220 220h160v-160H400v160Zm0 220h160v-160H400v160ZM180-400h160v-160H180v160Zm440 0h160v-160H620v160ZM180-180h160v-160H180v160Zm440 0h160v-160H620v160Z\"/>\n",
              "  </svg>\n",
              "    </button>\n",
              "\n",
              "  <style>\n",
              "    .colab-df-container {\n",
              "      display:flex;\n",
              "      gap: 12px;\n",
              "    }\n",
              "\n",
              "    .colab-df-convert {\n",
              "      background-color: #E8F0FE;\n",
              "      border: none;\n",
              "      border-radius: 50%;\n",
              "      cursor: pointer;\n",
              "      display: none;\n",
              "      fill: #1967D2;\n",
              "      height: 32px;\n",
              "      padding: 0 0 0 0;\n",
              "      width: 32px;\n",
              "    }\n",
              "\n",
              "    .colab-df-convert:hover {\n",
              "      background-color: #E2EBFA;\n",
              "      box-shadow: 0px 1px 2px rgba(60, 64, 67, 0.3), 0px 1px 3px 1px rgba(60, 64, 67, 0.15);\n",
              "      fill: #174EA6;\n",
              "    }\n",
              "\n",
              "    .colab-df-buttons div {\n",
              "      margin-bottom: 4px;\n",
              "    }\n",
              "\n",
              "    [theme=dark] .colab-df-convert {\n",
              "      background-color: #3B4455;\n",
              "      fill: #D2E3FC;\n",
              "    }\n",
              "\n",
              "    [theme=dark] .colab-df-convert:hover {\n",
              "      background-color: #434B5C;\n",
              "      box-shadow: 0px 1px 3px 1px rgba(0, 0, 0, 0.15);\n",
              "      filter: drop-shadow(0px 1px 2px rgba(0, 0, 0, 0.3));\n",
              "      fill: #FFFFFF;\n",
              "    }\n",
              "  </style>\n",
              "\n",
              "    <script>\n",
              "      const buttonEl =\n",
              "        document.querySelector('#df-e874268c-a2ff-4f9a-af38-64e4079d5001 button.colab-df-convert');\n",
              "      buttonEl.style.display =\n",
              "        google.colab.kernel.accessAllowed ? 'block' : 'none';\n",
              "\n",
              "      async function convertToInteractive(key) {\n",
              "        const element = document.querySelector('#df-e874268c-a2ff-4f9a-af38-64e4079d5001');\n",
              "        const dataTable =\n",
              "          await google.colab.kernel.invokeFunction('convertToInteractive',\n",
              "                                                    [key], {});\n",
              "        if (!dataTable) return;\n",
              "\n",
              "        const docLinkHtml = 'Like what you see? Visit the ' +\n",
              "          '<a target=\"_blank\" href=https://colab.research.google.com/notebooks/data_table.ipynb>data table notebook</a>'\n",
              "          + ' to learn more about interactive tables.';\n",
              "        element.innerHTML = '';\n",
              "        dataTable['output_type'] = 'display_data';\n",
              "        await google.colab.output.renderOutput(dataTable, element);\n",
              "        const docLink = document.createElement('div');\n",
              "        docLink.innerHTML = docLinkHtml;\n",
              "        element.appendChild(docLink);\n",
              "      }\n",
              "    </script>\n",
              "  </div>\n",
              "\n",
              "\n",
              "    <div id=\"df-75dab6e7-160f-40f0-a411-88a8f3117e87\">\n",
              "      <button class=\"colab-df-quickchart\" onclick=\"quickchart('df-75dab6e7-160f-40f0-a411-88a8f3117e87')\"\n",
              "                title=\"Suggest charts\"\n",
              "                style=\"display:none;\">\n",
              "\n",
              "<svg xmlns=\"http://www.w3.org/2000/svg\" height=\"24px\"viewBox=\"0 0 24 24\"\n",
              "     width=\"24px\">\n",
              "    <g>\n",
              "        <path d=\"M19 3H5c-1.1 0-2 .9-2 2v14c0 1.1.9 2 2 2h14c1.1 0 2-.9 2-2V5c0-1.1-.9-2-2-2zM9 17H7v-7h2v7zm4 0h-2V7h2v10zm4 0h-2v-4h2v4z\"/>\n",
              "    </g>\n",
              "</svg>\n",
              "      </button>\n",
              "\n",
              "<style>\n",
              "  .colab-df-quickchart {\n",
              "      --bg-color: #E8F0FE;\n",
              "      --fill-color: #1967D2;\n",
              "      --hover-bg-color: #E2EBFA;\n",
              "      --hover-fill-color: #174EA6;\n",
              "      --disabled-fill-color: #AAA;\n",
              "      --disabled-bg-color: #DDD;\n",
              "  }\n",
              "\n",
              "  [theme=dark] .colab-df-quickchart {\n",
              "      --bg-color: #3B4455;\n",
              "      --fill-color: #D2E3FC;\n",
              "      --hover-bg-color: #434B5C;\n",
              "      --hover-fill-color: #FFFFFF;\n",
              "      --disabled-bg-color: #3B4455;\n",
              "      --disabled-fill-color: #666;\n",
              "  }\n",
              "\n",
              "  .colab-df-quickchart {\n",
              "    background-color: var(--bg-color);\n",
              "    border: none;\n",
              "    border-radius: 50%;\n",
              "    cursor: pointer;\n",
              "    display: none;\n",
              "    fill: var(--fill-color);\n",
              "    height: 32px;\n",
              "    padding: 0;\n",
              "    width: 32px;\n",
              "  }\n",
              "\n",
              "  .colab-df-quickchart:hover {\n",
              "    background-color: var(--hover-bg-color);\n",
              "    box-shadow: 0 1px 2px rgba(60, 64, 67, 0.3), 0 1px 3px 1px rgba(60, 64, 67, 0.15);\n",
              "    fill: var(--button-hover-fill-color);\n",
              "  }\n",
              "\n",
              "  .colab-df-quickchart-complete:disabled,\n",
              "  .colab-df-quickchart-complete:disabled:hover {\n",
              "    background-color: var(--disabled-bg-color);\n",
              "    fill: var(--disabled-fill-color);\n",
              "    box-shadow: none;\n",
              "  }\n",
              "\n",
              "  .colab-df-spinner {\n",
              "    border: 2px solid var(--fill-color);\n",
              "    border-color: transparent;\n",
              "    border-bottom-color: var(--fill-color);\n",
              "    animation:\n",
              "      spin 1s steps(1) infinite;\n",
              "  }\n",
              "\n",
              "  @keyframes spin {\n",
              "    0% {\n",
              "      border-color: transparent;\n",
              "      border-bottom-color: var(--fill-color);\n",
              "      border-left-color: var(--fill-color);\n",
              "    }\n",
              "    20% {\n",
              "      border-color: transparent;\n",
              "      border-left-color: var(--fill-color);\n",
              "      border-top-color: var(--fill-color);\n",
              "    }\n",
              "    30% {\n",
              "      border-color: transparent;\n",
              "      border-left-color: var(--fill-color);\n",
              "      border-top-color: var(--fill-color);\n",
              "      border-right-color: var(--fill-color);\n",
              "    }\n",
              "    40% {\n",
              "      border-color: transparent;\n",
              "      border-right-color: var(--fill-color);\n",
              "      border-top-color: var(--fill-color);\n",
              "    }\n",
              "    60% {\n",
              "      border-color: transparent;\n",
              "      border-right-color: var(--fill-color);\n",
              "    }\n",
              "    80% {\n",
              "      border-color: transparent;\n",
              "      border-right-color: var(--fill-color);\n",
              "      border-bottom-color: var(--fill-color);\n",
              "    }\n",
              "    90% {\n",
              "      border-color: transparent;\n",
              "      border-bottom-color: var(--fill-color);\n",
              "    }\n",
              "  }\n",
              "</style>\n",
              "\n",
              "      <script>\n",
              "        async function quickchart(key) {\n",
              "          const quickchartButtonEl =\n",
              "            document.querySelector('#' + key + ' button');\n",
              "          quickchartButtonEl.disabled = true;  // To prevent multiple clicks.\n",
              "          quickchartButtonEl.classList.add('colab-df-spinner');\n",
              "          try {\n",
              "            const charts = await google.colab.kernel.invokeFunction(\n",
              "                'suggestCharts', [key], {});\n",
              "          } catch (error) {\n",
              "            console.error('Error during call to suggestCharts:', error);\n",
              "          }\n",
              "          quickchartButtonEl.classList.remove('colab-df-spinner');\n",
              "          quickchartButtonEl.classList.add('colab-df-quickchart-complete');\n",
              "        }\n",
              "        (() => {\n",
              "          let quickchartButtonEl =\n",
              "            document.querySelector('#df-75dab6e7-160f-40f0-a411-88a8f3117e87 button');\n",
              "          quickchartButtonEl.style.display =\n",
              "            google.colab.kernel.accessAllowed ? 'block' : 'none';\n",
              "        })();\n",
              "      </script>\n",
              "    </div>\n",
              "\n",
              "    </div>\n",
              "  </div>\n"
            ],
            "application/vnd.google.colaboratory.intrinsic+json": {
              "type": "dataframe",
              "variable_name": "rainfall_df",
              "summary": "{\n  \"name\": \"rainfall_df\",\n  \"rows\": 54,\n  \"fields\": [\n    {\n      \"column\": \"date\",\n      \"properties\": {\n        \"dtype\": \"string\",\n        \"num_unique_values\": 54,\n        \"samples\": [\n          \"2022-01-20\",\n          \"2022-02-19\",\n          \"2022-02-18\"\n        ],\n        \"semantic_type\": \"\",\n        \"description\": \"\"\n      }\n    },\n    {\n      \"column\": \"rainfall\",\n      \"properties\": {\n        \"dtype\": \"number\",\n        \"std\": 6.712520524005565,\n        \"min\": 0.0,\n        \"max\": 21.8,\n        \"num_unique_values\": 42,\n        \"samples\": [\n          11.6,\n          19.2,\n          18.6\n        ],\n        \"semantic_type\": \"\",\n        \"description\": \"\"\n      }\n    },\n    {\n      \"column\": \"temperature\",\n      \"properties\": {\n        \"dtype\": \"number\",\n        \"std\": 2.5006631921513436,\n        \"min\": 13.9,\n        \"max\": 23.4,\n        \"num_unique_values\": 47,\n        \"samples\": [\n          14.2,\n          18.1,\n          22.9\n        ],\n        \"semantic_type\": \"\",\n        \"description\": \"\"\n      }\n    },\n    {\n      \"column\": \"humidity\",\n      \"properties\": {\n        \"dtype\": \"number\",\n        \"std\": 11.969360982199765,\n        \"min\": 44.0,\n        \"max\": 89.0,\n        \"num_unique_values\": 37,\n        \"samples\": [\n          51.0,\n          69.0,\n          82.0\n        ],\n        \"semantic_type\": \"\",\n        \"description\": \"\"\n      }\n    },\n    {\n      \"column\": \"wind_speed\",\n      \"properties\": {\n        \"dtype\": \"number\",\n        \"std\": 2.2090689183934265,\n        \"min\": 2.1,\n        \"max\": 10.5,\n        \"num_unique_values\": 42,\n        \"samples\": [\n          2.5,\n          6.5,\n          6.1\n        ],\n        \"semantic_type\": \"\",\n        \"description\": \"\"\n      }\n    },\n    {\n      \"column\": \"weather_condition\",\n      \"properties\": {\n        \"dtype\": \"category\",\n        \"num_unique_values\": 2,\n        \"samples\": [\n          \"Sunny\",\n          \"Rainy\"\n        ],\n        \"semantic_type\": \"\",\n        \"description\": \"\"\n      }\n    }\n  ]\n}"
            }
          },
          "metadata": {},
          "execution_count": 11
        }
      ],
      "source": [
        "import pandas as pd\n",
        "import numpy as np\n",
        "import matplotlib.pyplot as plt\n",
        "from sklearn.model_selection import train_test_split\n",
        "from sklearn.preprocessing import StandardScaler, LabelEncoder\n",
        "from tensorflow.keras.models import Sequential\n",
        "from tensorflow.keras.layers import Dense, Dropout\n",
        "from tensorflow.keras.utils import to_categorical\n",
        "from sklearn.metrics import classification_report, confusion_matrix\n",
        "import seaborn as sns\n",
        "# Load your rainfall dataset (replace with your path)\n",
        "rainfall_df = pd.read_csv(\"rainfall.csv\")\n",
        "rainfall_df.head()\n"
      ]
    },
    {
      "cell_type": "code",
      "source": [
        "plt.figure(figsize=(8,5))\n",
        "sns.histplot(rainfall_df['rainfall'], bins=30, kde=True)\n",
        "plt.title(\"Rainfall Distribution in Kenya\")\n",
        "plt.xlabel(\"Rainfall (mm)\")\n",
        "plt.ylabel(\"Frequency\")\n",
        "plt.show()"
      ],
      "metadata": {
        "colab": {
          "base_uri": "https://localhost:8080/",
          "height": 449
        },
        "id": "F7skc3cPL0xi",
        "outputId": "493cf558-260f-45b5-f0a7-a035d0948dbf"
      },
      "execution_count": null,
      "outputs": [
        {
          "output_type": "display_data",
          "data": {
            "text/plain": [
              "<Figure size 800x500 with 1 Axes>"
            ],
            "image/png": "[encoded data removed]"
          },
          "metadata": {}
        }
      ]
    },
    {
      "cell_type": "code",
      "source": [
        "#preparing data for neuralnetworks\n",
        "import pandas as pd\n",
        "import numpy as np\n",
        "from sklearn.model_selection import train_test_split\n",
        "from sklearn.preprocessing import StandardScaler, LabelEncoder\n",
        "from tensorflow.keras.utils import to_categorical\n",
        "\n",
        "# Load your rainfall dataset (replace with your path)\n",
        "rainfall_df = pd.read_csv(\"rainfall.csv\")\n",
        "\n",
        "# Extract year and month from the 'date' column\n",
        "rainfall_df['date'] = pd.to_datetime(rainfall_df['date'], errors='coerce')\n",
        "\n",
        "# Drop rows with invalid dates\n",
        "rainfall_df.dropna(subset=['date'], inplace=True)\n",
        "\n",
        "rainfall_df['year'] = rainfall_df['date'].dt.year\n",
        "rainfall_df['month'] = rainfall_df['date'].dt.month\n",
        "\n",
        "# Features\n",
        "X = rainfall_df[['year', 'month', 'rainfall', 'temperature', 'humidity', 'wind_speed']]\n",
        "y = rainfall_df['weather_condition']\n",
        "\n",
        "# Encode labels\n",
        "le = LabelEncoder()\n",
        "y_encoded = le.fit_transform(y)\n",
        "y_categorical = to_categorical(y_encoded)\n",
        "\n",
        "# Scale features\n",
        "scaler = StandardScaler()\n",
        "X_scaled = scaler.fit_transform(X)\n",
        "\n",
        "# Train-test split\n",
        "X_train, X_test, y_train, y_test = train_test_split(X_scaled, y_categorical, test_size=0.2, random_state=42)"
      ],
      "metadata": {
        "id": "TUt_4MATMU9i"
      },
      "execution_count": null,
      "outputs": []
    },
    {
      "cell_type": "code",
      "source": [
        "#bulding neuralnetworks\n",
        "model = Sequential([\n",
        "    Dense(64, activation='relu', input_shape=(X_train.shape[1],)),\n",
        "    Dropout(0.3),\n",
        "    Dense(32, activation='relu'),\n",
        "    Dense(2, activation='softmax')  # Changed to 2 output neurons\n",
        "])\n",
        "\n",
        "model.compile(optimizer='adam', loss='categorical_crossentropy', metrics=['accuracy'])\n",
        "model.summary()"
      ],
      "metadata": {
        "colab": {
          "base_uri": "https://localhost:8080/",
          "height": 313
        },
        "id": "Pum2JAsBNQhU",
        "outputId": "e717335f-bd6c-45be-82ec-5ae45879c115"
      },
      "execution_count": null,
      "outputs": [
        {
          "output_type": "stream",
          "name": "stderr",
          "text": [
            "/usr/local/lib/python3.12/dist-packages/keras/src/layers/core/dense.py:93: UserWarning: Do not pass an `input_shape`/`input_dim` argument to a layer. When using Sequential models, prefer using an `Input(shape)` object as the first layer in the model instead.\n",
            "  super().__init__(activity_regularizer=activity_regularizer, **kwargs)\n"
          ]
        },
        {
          "output_type": "display_data",
          "data": {
            "text/plain": [
              "\u001b[1mModel: \"sequential\"\u001b[0m\n"
            ],
            "text/html": [
              "<pre style=\"white-space:pre;overflow-x:auto;line-height:normal;font-family:Menlo,'DejaVu Sans Mono',consolas,'Courier New',monospace\"><span style=\"font-weight: bold\">Model: \"sequential\"</span>\n",
              "</pre>\n"
            ]
          },
          "metadata": {}
        },
        {
          "output_type": "display_data",
          "data": {
            "text/plain": [
              "┏━━━━━━━━━━━━━━━━━━━━━━━━━━━━━━━━━┳━━━━━━━━━━━━━━━━━━━━━━━━┳━━━━━━━━━━━━━━━┓\n",
              "┃\u001b[1m \u001b[0m\u001b[1mLayer (type)                   \u001b[0m\u001b[1m \u001b[0m┃\u001b[1m \u001b[0m\u001b[1mOutput Shape          \u001b[0m\u001b[1m \u001b[0m┃\u001b[1m \u001b[0m\u001b[1m      Param #\u001b[0m\u001b[1m \u001b[0m┃\n",
              "┡━━━━━━━━━━━━━━━━━━━━━━━━━━━━━━━━━╇━━━━━━━━━━━━━━━━━━━━━━━━╇━━━━━━━━━━━━━━━┩\n",
              "│ dense (\u001b[38;5;33mDense\u001b[0m)                   │ (\u001b[38;5;45mNone\u001b[0m, \u001b[38;5;34m64\u001b[0m)             │           \u001b[38;5;34m448\u001b[0m │\n",
              "├─────────────────────────────────┼────────────────────────┼───────────────┤\n",
              "│ dropout (\u001b[38;5;33mDropout\u001b[0m)               │ (\u001b[38;5;45mNone\u001b[0m, \u001b[38;5;34m64\u001b[0m)             │             \u001b[38;5;34m0\u001b[0m │\n",
              "├─────────────────────────────────┼────────────────────────┼───────────────┤\n",
              "│ dense_1 (\u001b[38;5;33mDense\u001b[0m)                 │ (\u001b[38;5;45mNone\u001b[0m, \u001b[38;5;34m32\u001b[0m)             │         \u001b[38;5;34m2,080\u001b[0m │\n",
              "├─────────────────────────────────┼────────────────────────┼───────────────┤\n",
              "│ dense_2 (\u001b[38;5;33mDense\u001b[0m)                 │ (\u001b[38;5;45mNone\u001b[0m, \u001b[38;5;34m2\u001b[0m)              │            \u001b[38;5;34m66\u001b[0m │\n",
              "└─────────────────────────────────┴────────────────────────┴───────────────┘\n"
            ],
            "text/html": [
              "<pre style=\"white-space:pre;overflow-x:auto;line-height:normal;font-family:Menlo,'DejaVu Sans Mono',consolas,'Courier New',monospace\">┏━━━━━━━━━━━━━━━━━━━━━━━━━━━━━━━━━┳━━━━━━━━━━━━━━━━━━━━━━━━┳━━━━━━━━━━━━━━━┓\n",
              "┃<span style=\"font-weight: bold\"> Layer (type)                    </span>┃<span style=\"font-weight: bold\"> Output Shape           </span>┃<span style=\"font-weight: bold\">       Param # </span>┃\n",
              "┡━━━━━━━━━━━━━━━━━━━━━━━━━━━━━━━━━╇━━━━━━━━━━━━━━━━━━━━━━━━╇━━━━━━━━━━━━━━━┩\n",
              "│ dense (<span style=\"color: #0087ff; text-decoration-color: #0087ff\">Dense</span>)                   │ (<span style=\"color: #00d7ff; text-decoration-color: #00d7ff\">None</span>, <span style=\"color: #00af00; text-decoration-color: #00af00\">64</span>)             │           <span style=\"color: #00af00; text-decoration-color: #00af00\">448</span> │\n",
              "├─────────────────────────────────┼────────────────────────┼───────────────┤\n",
              "│ dropout (<span style=\"color: #0087ff; text-decoration-color: #0087ff\">Dropout</span>)               │ (<span style=\"color: #00d7ff; text-decoration-color: #00d7ff\">None</span>, <span style=\"color: #00af00; text-decoration-color: #00af00\">64</span>)             │             <span style=\"color: #00af00; text-decoration-color: #00af00\">0</span> │\n",
              "├─────────────────────────────────┼────────────────────────┼───────────────┤\n",
              "│ dense_1 (<span style=\"color: #0087ff; text-decoration-color: #0087ff\">Dense</span>)                 │ (<span style=\"color: #00d7ff; text-decoration-color: #00d7ff\">None</span>, <span style=\"color: #00af00; text-decoration-color: #00af00\">32</span>)             │         <span style=\"color: #00af00; text-decoration-color: #00af00\">2,080</span> │\n",
              "├─────────────────────────────────┼────────────────────────┼───────────────┤\n",
              "│ dense_2 (<span style=\"color: #0087ff; text-decoration-color: #0087ff\">Dense</span>)                 │ (<span style=\"color: #00d7ff; text-decoration-color: #00d7ff\">None</span>, <span style=\"color: #00af00; text-decoration-color: #00af00\">2</span>)              │            <span style=\"color: #00af00; text-decoration-color: #00af00\">66</span> │\n",
              "└─────────────────────────────────┴────────────────────────┴───────────────┘\n",
              "</pre>\n"
            ]
          },
          "metadata": {}
        },
        {
          "output_type": "display_data",
          "data": {
            "text/plain": [
              "\u001b[1m Total params: \u001b[0m\u001b[38;5;34m2,594\u001b[0m (10.13 KB)\n"
            ],
            "text/html": [
              "<pre style=\"white-space:pre;overflow-x:auto;line-height:normal;font-family:Menlo,'DejaVu Sans Mono',consolas,'Courier New',monospace\"><span style=\"font-weight: bold\"> Total params: </span><span style=\"color: #00af00; text-decoration-color: #00af00\">2,594</span> (10.13 KB)\n",
              "</pre>\n"
            ]
          },
          "metadata": {}
        },
        {
          "output_type": "display_data",
          "data": {
            "text/plain": [
              "\u001b[1m Trainable params: \u001b[0m\u001b[38;5;34m2,594\u001b[0m (10.13 KB)\n"
            ],
            "text/html": [
              "<pre style=\"white-space:pre;overflow-x:auto;line-height:normal;font-family:Menlo,'DejaVu Sans Mono',consolas,'Courier New',monospace\"><span style=\"font-weight: bold\"> Trainable params: </span><span style=\"color: #00af00; text-decoration-color: #00af00\">2,594</span> (10.13 KB)\n",
              "</pre>\n"
            ]
          },
          "metadata": {}
        },
        {
          "output_type": "display_data",
          "data": {
            "text/plain": [
              "\u001b[1m Non-trainable params: \u001b[0m\u001b[38;5;34m0\u001b[0m (0.00 B)\n"
            ],
            "text/html": [
              "<pre style=\"white-space:pre;overflow-x:auto;line-height:normal;font-family:Menlo,'DejaVu Sans Mono',consolas,'Courier New',monospace\"><span style=\"font-weight: bold\"> Non-trainable params: </span><span style=\"color: #00af00; text-decoration-color: #00af00\">0</span> (0.00 B)\n",
              "</pre>\n"
            ]
          },
          "metadata": {}
        }
      ]
    },
    {
      "cell_type": "code",
      "source": [
        "#train the model\n",
        "history = model.fit(\n",
        "    X_train, y_train,\n",
        "    validation_data=(X_test, y_test),\n",
        "    epochs=50,\n",
        "    batch_size=16,\n",
        "    verbose=1\n",
        ")"
      ],
      "metadata": {
        "colab": {
          "base_uri": "https://localhost:8080/"
        },
        "id": "Aa0vbdcuNegR",
        "outputId": "8fb7b229-41f4-428b-82ee-994e32ff361c"
      },
      "execution_count": null,
      "outputs": [
        {
          "output_type": "stream",
          "name": "stdout",
          "text": [
            "Epoch 1/50\n",
            "\u001b[1m3/3\u001b[0m \u001b[32m━━━━━━━━━━━━━━━━━━━━\u001b[0m\u001b[37m\u001b[0m \u001b[1m2s\u001b[0m 144ms/step - accuracy: 0.8225 - loss: 0.6901 - val_accuracy: 0.7273 - val_loss: 0.8705\n",
            "Epoch 2/50\n",
            "\u001b[1m3/3\u001b[0m \u001b[32m━━━━━━━━━━━━━━━━━━━━\u001b[0m\u001b[37m\u001b[0m \u001b[1m0s\u001b[0m 35ms/step - accuracy: 0.7716 - loss: 0.6862 - val_accuracy: 0.7273 - val_loss: 0.7703\n",
            "Epoch 3/50\n",
            "\u001b[1m3/3\u001b[0m \u001b[32m━━━━━━━━━━━━━━━━━━━━\u001b[0m\u001b[37m\u001b[0m \u001b[1m0s\u001b[0m 36ms/step - accuracy: 0.8032 - loss: 0.6230 - val_accuracy: 0.7273 - val_loss: 0.6813\n",
            "Epoch 4/50\n",
            "\u001b[1m3/3\u001b[0m \u001b[32m━━━━━━━━━━━━━━━━━━━━\u001b[0m\u001b[37m\u001b[0m \u001b[1m0s\u001b[0m 36ms/step - accuracy: 0.7876 - loss: 0.5973 - val_accuracy: 0.7273 - val_loss: 0.6017\n",
            "Epoch 5/50\n",
            "\u001b[1m3/3\u001b[0m \u001b[32m━━━━━━━━━━━━━━━━━━━━\u001b[0m\u001b[37m\u001b[0m \u001b[1m0s\u001b[0m 36ms/step - accuracy: 0.8151 - loss: 0.5212 - val_accuracy: 0.7273 - val_loss: 0.5351\n",
            "Epoch 6/50\n",
            "\u001b[1m3/3\u001b[0m \u001b[32m━━━━━━━━━━━━━━━━━━━━\u001b[0m\u001b[37m\u001b[0m \u001b[1m0s\u001b[0m 35ms/step - accuracy: 0.8188 - loss: 0.4607 - val_accuracy: 0.7273 - val_loss: 0.4736\n",
            "Epoch 7/50\n",
            "\u001b[1m3/3\u001b[0m \u001b[32m━━━━━━━━━━━━━━━━━━━━\u001b[0m\u001b[37m\u001b[0m \u001b[1m0s\u001b[0m 43ms/step - accuracy: 0.8620 - loss: 0.4031 - val_accuracy: 0.7273 - val_loss: 0.4204\n",
            "Epoch 8/50\n",
            "\u001b[1m3/3\u001b[0m \u001b[32m━━━━━━━━━━━━━━━━━━━━\u001b[0m\u001b[37m\u001b[0m \u001b[1m0s\u001b[0m 35ms/step - accuracy: 0.8266 - loss: 0.4253 - val_accuracy: 1.0000 - val_loss: 0.3737\n",
            "Epoch 9/50\n",
            "\u001b[1m3/3\u001b[0m \u001b[32m━━━━━━━━━━━━━━━━━━━━\u001b[0m\u001b[37m\u001b[0m \u001b[1m0s\u001b[0m 36ms/step - accuracy: 0.9330 - loss: 0.3523 - val_accuracy: 1.0000 - val_loss: 0.3329\n",
            "Epoch 10/50\n",
            "\u001b[1m3/3\u001b[0m \u001b[32m━━━━━━━━━━━━━━━━━━━━\u001b[0m\u001b[37m\u001b[0m \u001b[1m0s\u001b[0m 36ms/step - accuracy: 0.9252 - loss: 0.3494 - val_accuracy: 1.0000 - val_loss: 0.3003\n",
            "Epoch 11/50\n",
            "\u001b[1m3/3\u001b[0m \u001b[32m━━━━━━━━━━━━━━━━━━━━\u001b[0m\u001b[37m\u001b[0m \u001b[1m0s\u001b[0m 36ms/step - accuracy: 0.9803 - loss: 0.2927 - val_accuracy: 1.0000 - val_loss: 0.2725\n",
            "Epoch 12/50\n",
            "\u001b[1m3/3\u001b[0m \u001b[32m━━━━━━━━━━━━━━━━━━━━\u001b[0m\u001b[37m\u001b[0m \u001b[1m0s\u001b[0m 35ms/step - accuracy: 0.8780 - loss: 0.3400 - val_accuracy: 1.0000 - val_loss: 0.2478\n",
            "Epoch 13/50\n",
            "\u001b[1m3/3\u001b[0m \u001b[32m━━━━━━━━━━━━━━━━━━━━\u001b[0m\u001b[37m\u001b[0m \u001b[1m0s\u001b[0m 35ms/step - accuracy: 0.9293 - loss: 0.2801 - val_accuracy: 1.0000 - val_loss: 0.2252\n",
            "Epoch 14/50\n",
            "\u001b[1m3/3\u001b[0m \u001b[32m━━━━━━━━━━━━━━━━━━━━\u001b[0m\u001b[37m\u001b[0m \u001b[1m0s\u001b[0m 35ms/step - accuracy: 0.9803 - loss: 0.2613 - val_accuracy: 1.0000 - val_loss: 0.2061\n",
            "Epoch 15/50\n",
            "\u001b[1m3/3\u001b[0m \u001b[32m━━━━━━━━━━━━━━━━━━━━\u001b[0m\u001b[37m\u001b[0m \u001b[1m0s\u001b[0m 36ms/step - accuracy: 0.9096 - loss: 0.2683 - val_accuracy: 1.0000 - val_loss: 0.1884\n",
            "Epoch 16/50\n",
            "\u001b[1m3/3\u001b[0m \u001b[32m━━━━━━━━━━━━━━━━━━━━\u001b[0m\u001b[37m\u001b[0m \u001b[1m0s\u001b[0m 35ms/step - accuracy: 0.9881 - loss: 0.2602 - val_accuracy: 1.0000 - val_loss: 0.1719\n",
            "Epoch 17/50\n",
            "\u001b[1m3/3\u001b[0m \u001b[32m━━━━━━━━━━━━━━━━━━━━\u001b[0m\u001b[37m\u001b[0m \u001b[1m0s\u001b[0m 43ms/step - accuracy: 0.9449 - loss: 0.2068 - val_accuracy: 1.0000 - val_loss: 0.1580\n",
            "Epoch 18/50\n",
            "\u001b[1m3/3\u001b[0m \u001b[32m━━━━━━━━━━━━━━━━━━━━\u001b[0m\u001b[37m\u001b[0m \u001b[1m0s\u001b[0m 37ms/step - accuracy: 0.9330 - loss: 0.2382 - val_accuracy: 1.0000 - val_loss: 0.1446\n",
            "Epoch 19/50\n",
            "\u001b[1m3/3\u001b[0m \u001b[32m━━━━━━━━━━━━━━━━━━━━\u001b[0m\u001b[37m\u001b[0m \u001b[1m0s\u001b[0m 36ms/step - accuracy: 0.9803 - loss: 0.2160 - val_accuracy: 1.0000 - val_loss: 0.1329\n",
            "Epoch 20/50\n",
            "\u001b[1m3/3\u001b[0m \u001b[32m━━━━━━━━━━━━━━━━━━━━\u001b[0m\u001b[37m\u001b[0m \u001b[1m0s\u001b[0m 36ms/step - accuracy: 0.9881 - loss: 0.1712 - val_accuracy: 1.0000 - val_loss: 0.1229\n",
            "Epoch 21/50\n",
            "\u001b[1m3/3\u001b[0m \u001b[32m━━━━━━━━━━━━━━━━━━━━\u001b[0m\u001b[37m\u001b[0m \u001b[1m0s\u001b[0m 35ms/step - accuracy: 0.9881 - loss: 0.1764 - val_accuracy: 1.0000 - val_loss: 0.1141\n",
            "Epoch 22/50\n",
            "\u001b[1m3/3\u001b[0m \u001b[32m━━━━━━━━━━━━━━━━━━━━\u001b[0m\u001b[37m\u001b[0m \u001b[1m0s\u001b[0m 36ms/step - accuracy: 0.9293 - loss: 0.1903 - val_accuracy: 1.0000 - val_loss: 0.1068\n",
            "Epoch 23/50\n",
            "\u001b[1m3/3\u001b[0m \u001b[32m━━━━━━━━━━━━━━━━━━━━\u001b[0m\u001b[37m\u001b[0m \u001b[1m0s\u001b[0m 35ms/step - accuracy: 0.9252 - loss: 0.1807 - val_accuracy: 1.0000 - val_loss: 0.0993\n",
            "Epoch 24/50\n",
            "\u001b[1m3/3\u001b[0m \u001b[32m━━━━━━━━━━━━━━━━━━━━\u001b[0m\u001b[37m\u001b[0m \u001b[1m0s\u001b[0m 36ms/step - accuracy: 1.0000 - loss: 0.1755 - val_accuracy: 1.0000 - val_loss: 0.0909\n",
            "Epoch 25/50\n",
            "\u001b[1m3/3\u001b[0m \u001b[32m━━━━━━━━━━━━━━━━━━━━\u001b[0m\u001b[37m\u001b[0m \u001b[1m0s\u001b[0m 36ms/step - accuracy: 0.9881 - loss: 0.1538 - val_accuracy: 1.0000 - val_loss: 0.0837\n",
            "Epoch 26/50\n",
            "\u001b[1m3/3\u001b[0m \u001b[32m━━━━━━━━━━━━━━━━━━━━\u001b[0m\u001b[37m\u001b[0m \u001b[1m0s\u001b[0m 35ms/step - accuracy: 0.9449 - loss: 0.1660 - val_accuracy: 1.0000 - val_loss: 0.0780\n",
            "Epoch 27/50\n",
            "\u001b[1m3/3\u001b[0m \u001b[32m━━━━━━━━━━━━━━━━━━━━\u001b[0m\u001b[37m\u001b[0m \u001b[1m0s\u001b[0m 43ms/step - accuracy: 0.9803 - loss: 0.1357 - val_accuracy: 1.0000 - val_loss: 0.0733\n",
            "Epoch 28/50\n",
            "\u001b[1m3/3\u001b[0m \u001b[32m━━━━━━━━━━━━━━━━━━━━\u001b[0m\u001b[37m\u001b[0m \u001b[1m0s\u001b[0m 40ms/step - accuracy: 0.9647 - loss: 0.1513 - val_accuracy: 1.0000 - val_loss: 0.0676\n",
            "Epoch 29/50\n",
            "\u001b[1m3/3\u001b[0m \u001b[32m━━━━━━━━━━━━━━━━━━━━\u001b[0m\u001b[37m\u001b[0m \u001b[1m0s\u001b[0m 38ms/step - accuracy: 1.0000 - loss: 0.1268 - val_accuracy: 1.0000 - val_loss: 0.0626\n",
            "Epoch 30/50\n",
            "\u001b[1m3/3\u001b[0m \u001b[32m━━━━━━━━━━━━━━━━━━━━\u001b[0m\u001b[37m\u001b[0m \u001b[1m0s\u001b[0m 36ms/step - accuracy: 1.0000 - loss: 0.1342 - val_accuracy: 1.0000 - val_loss: 0.0561\n",
            "Epoch 31/50\n",
            "\u001b[1m3/3\u001b[0m \u001b[32m━━━━━━━━━━━━━━━━━━━━\u001b[0m\u001b[37m\u001b[0m \u001b[1m0s\u001b[0m 36ms/step - accuracy: 1.0000 - loss: 0.0989 - val_accuracy: 1.0000 - val_loss: 0.0506\n",
            "Epoch 32/50\n",
            "\u001b[1m3/3\u001b[0m \u001b[32m━━━━━━━━━━━━━━━━━━━━\u001b[0m\u001b[37m\u001b[0m \u001b[1m0s\u001b[0m 35ms/step - accuracy: 0.9803 - loss: 0.1011 - val_accuracy: 1.0000 - val_loss: 0.0462\n",
            "Epoch 33/50\n",
            "\u001b[1m3/3\u001b[0m \u001b[32m━━━━━━━━━━━━━━━━━━━━\u001b[0m\u001b[37m\u001b[0m \u001b[1m0s\u001b[0m 37ms/step - accuracy: 0.9881 - loss: 0.1000 - val_accuracy: 1.0000 - val_loss: 0.0428\n",
            "Epoch 34/50\n",
            "\u001b[1m3/3\u001b[0m \u001b[32m━━━━━━━━━━━━━━━━━━━━\u001b[0m\u001b[37m\u001b[0m \u001b[1m0s\u001b[0m 36ms/step - accuracy: 0.9647 - loss: 0.1063 - val_accuracy: 1.0000 - val_loss: 0.0407\n",
            "Epoch 35/50\n",
            "\u001b[1m3/3\u001b[0m \u001b[32m━━━━━━━━━━━━━━━━━━━━\u001b[0m\u001b[37m\u001b[0m \u001b[1m0s\u001b[0m 36ms/step - accuracy: 0.9803 - loss: 0.0855 - val_accuracy: 1.0000 - val_loss: 0.0385\n",
            "Epoch 36/50\n",
            "\u001b[1m3/3\u001b[0m \u001b[32m━━━━━━━━━━━━━━━━━━━━\u001b[0m\u001b[37m\u001b[0m \u001b[1m0s\u001b[0m 36ms/step - accuracy: 0.9684 - loss: 0.1056 - val_accuracy: 1.0000 - val_loss: 0.0367\n",
            "Epoch 37/50\n",
            "\u001b[1m3/3\u001b[0m \u001b[32m━━━━━━━━━━━━━━━━━━━━\u001b[0m\u001b[37m\u001b[0m \u001b[1m0s\u001b[0m 39ms/step - accuracy: 0.9449 - loss: 0.1171 - val_accuracy: 1.0000 - val_loss: 0.0352\n",
            "Epoch 38/50\n",
            "\u001b[1m3/3\u001b[0m \u001b[32m━━━━━━━━━━━━━━━━━━━━\u001b[0m\u001b[37m\u001b[0m \u001b[1m0s\u001b[0m 37ms/step - accuracy: 1.0000 - loss: 0.0808 - val_accuracy: 1.0000 - val_loss: 0.0325\n",
            "Epoch 39/50\n",
            "\u001b[1m3/3\u001b[0m \u001b[32m━━━━━━━━━━━━━━━━━━━━\u001b[0m\u001b[37m\u001b[0m \u001b[1m0s\u001b[0m 36ms/step - accuracy: 0.9647 - loss: 0.1557 - val_accuracy: 1.0000 - val_loss: 0.0295\n",
            "Epoch 40/50\n",
            "\u001b[1m3/3\u001b[0m \u001b[32m━━━━━━━━━━━━━━━━━━━━\u001b[0m\u001b[37m\u001b[0m \u001b[1m0s\u001b[0m 37ms/step - accuracy: 0.9647 - loss: 0.0990 - val_accuracy: 1.0000 - val_loss: 0.0271\n",
            "Epoch 41/50\n",
            "\u001b[1m3/3\u001b[0m \u001b[32m━━━━━━━━━━━━━━━━━━━━\u001b[0m\u001b[37m\u001b[0m \u001b[1m0s\u001b[0m 37ms/step - accuracy: 0.9881 - loss: 0.0711 - val_accuracy: 1.0000 - val_loss: 0.0251\n",
            "Epoch 42/50\n",
            "\u001b[1m3/3\u001b[0m \u001b[32m━━━━━━━━━━━━━━━━━━━━\u001b[0m\u001b[37m\u001b[0m \u001b[1m0s\u001b[0m 37ms/step - accuracy: 0.9803 - loss: 0.0847 - val_accuracy: 1.0000 - val_loss: 0.0239\n",
            "Epoch 43/50\n",
            "\u001b[1m3/3\u001b[0m \u001b[32m━━━━━━━━━━━━━━━━━━━━\u001b[0m\u001b[37m\u001b[0m \u001b[1m0s\u001b[0m 36ms/step - accuracy: 0.9647 - loss: 0.1060 - val_accuracy: 1.0000 - val_loss: 0.0227\n",
            "Epoch 44/50\n",
            "\u001b[1m3/3\u001b[0m \u001b[32m━━━━━━━━━━━━━━━━━━━━\u001b[0m\u001b[37m\u001b[0m \u001b[1m0s\u001b[0m 37ms/step - accuracy: 0.9449 - loss: 0.0961 - val_accuracy: 1.0000 - val_loss: 0.0216\n",
            "Epoch 45/50\n",
            "\u001b[1m3/3\u001b[0m \u001b[32m━━━━━━━━━━━━━━━━━━━━\u001b[0m\u001b[37m\u001b[0m \u001b[1m0s\u001b[0m 36ms/step - accuracy: 0.9647 - loss: 0.1263 - val_accuracy: 1.0000 - val_loss: 0.0213\n",
            "Epoch 46/50\n",
            "\u001b[1m3/3\u001b[0m \u001b[32m━━━━━━━━━━━━━━━━━━━━\u001b[0m\u001b[37m\u001b[0m \u001b[1m0s\u001b[0m 58ms/step - accuracy: 1.0000 - loss: 0.0806 - val_accuracy: 1.0000 - val_loss: 0.0209\n",
            "Epoch 47/50\n",
            "\u001b[1m3/3\u001b[0m \u001b[32m━━━━━━━━━━━━━━━━━━━━\u001b[0m\u001b[37m\u001b[0m \u001b[1m0s\u001b[0m 36ms/step - accuracy: 1.0000 - loss: 0.0578 - val_accuracy: 1.0000 - val_loss: 0.0200\n",
            "Epoch 48/50\n",
            "\u001b[1m3/3\u001b[0m \u001b[32m━━━━━━━━━━━━━━━━━━━━\u001b[0m\u001b[37m\u001b[0m \u001b[1m0s\u001b[0m 36ms/step - accuracy: 0.9647 - loss: 0.0695 - val_accuracy: 1.0000 - val_loss: 0.0193\n",
            "Epoch 49/50\n",
            "\u001b[1m3/3\u001b[0m \u001b[32m━━━━━━━━━━━━━━━━━━━━\u001b[0m\u001b[37m\u001b[0m \u001b[1m0s\u001b[0m 36ms/step - accuracy: 0.9881 - loss: 0.0426 - val_accuracy: 1.0000 - val_loss: 0.0182\n",
            "Epoch 50/50\n",
            "\u001b[1m3/3\u001b[0m \u001b[32m━━━━━━━━━━━━━━━━━━━━\u001b[0m\u001b[37m\u001b[0m \u001b[1m0s\u001b[0m 38ms/step - accuracy: 0.9803 - loss: 0.0545 - val_accuracy: 1.0000 - val_loss: 0.0176\n"
          ]
        }
      ]
    },
    {
      "cell_type": "code",
      "source": [
        "# Evaluate on test data\n",
        "loss, acc = model.evaluate(X_test, y_test, verbose=0)\n",
        "print(f\"✅ Test Accuracy: {acc*100:.2f}%\")\n",
        "\n",
        "# Plot training history\n",
        "plt.figure(figsize=(10,4))\n",
        "plt.subplot(1,2,1)\n",
        "plt.plot(history.history['accuracy'], label='Train Acc')\n",
        "plt.plot(history.history['val_accuracy'], label='Val Acc')\n",
        "plt.title('Model Accuracy')\n",
        "plt.legend()\n",
        "\n",
        "plt.subplot(1,2,2)\n",
        "plt.plot(history.history['loss'], label='Train Loss')\n",
        "plt.plot(history.history['val_loss'], label='Val Loss')\n",
        "plt.title('Model Loss')\n",
        "plt.legend()\n",
        "plt.show()"
      ],
      "metadata": {
        "colab": {
          "base_uri": "https://localhost:8080/",
          "height": 317
        },
        "id": "8j7N9sXNnFTt",
        "outputId": "0c164971-3d06-4e4c-e2d8-84f26034ff58"
      },
      "execution_count": null,
      "outputs": [
        {
          "output_type": "stream",
          "name": "stdout",
          "text": [
            "✅ Test Accuracy: 100.00%\n"
          ]
        },
        {
          "output_type": "display_data",
          "data": {
            "text/plain": [
              "<Figure size 1000x400 with 2 Axes>"
            ],
            "image/png": "[encoded data removed]"
          },
          "metadata": {}
        }
      ]
    },
    {
      "cell_type": "code",
      "metadata": {
        "colab": {
          "base_uri": "https://localhost:8080/",
          "height": 505
        },
        "id": "0cdc99ed",
        "outputId": "6dfce9e7-8d4b-4f9d-e2b5-449f81625b7f"
      },
      "source": [
        "#confusion matrix\n",
        "# Get predictions for the test data\n",
        "y_pred = model.predict(X_test)\n",
        "y_pred_classes = np.argmax(y_pred, axis=1)\n",
        "\n",
        "# Convert one-hot encoded y_test back to original labels\n",
        "y_test_classes = np.argmax(y_test, axis=1)\n",
        "\n",
        "# Generate confusion matrix\n",
        "conf_matrix = confusion_matrix(y_test_classes, y_pred_classes)\n",
        "\n",
        "# Plot confusion matrix\n",
        "plt.figure(figsize=(6, 5))\n",
        "sns.heatmap(conf_matrix, annot=True, fmt='d', cmap='Blues', xticklabels=le.classes_, yticklabels=le.classes_)\n",
        "plt.xlabel('Predicted Label')\n",
        "plt.ylabel('True Label')\n",
        "plt.title('Confusion Matrix')\n",
        "plt.show()"
      ],
      "execution_count": null,
      "outputs": [
        {
          "output_type": "stream",
          "name": "stdout",
          "text": [
            "\u001b[1m1/1\u001b[0m \u001b[32m━━━━━━━━━━━━━━━━━━━━\u001b[0m\u001b[37m\u001b[0m \u001b[1m0s\u001b[0m 73ms/step\n"
          ]
        },
        {
          "output_type": "display_data",
          "data": {
            "text/plain": [
              "<Figure size 600x500 with 2 Axes>"
            ],
            "image/png": "[encoded data removed]"
          },
          "metadata": {}
        }
      ]
    },
    {
      "cell_type": "code",
      "metadata": {
        "colab": {
          "base_uri": "https://localhost:8080/"
        },
        "id": "256f3bec",
        "outputId": "7086369d-6819-418c-a45f-66cfbb38bdb2"
      },
      "source": [
        "# Make predictions on new data\n",
        "# Replace this with your new data\n",
        "new_data = pd.DataFrame({\n",
        "    'year': [2023, 2023, 2023],\n",
        "    'month': [1, 6, 12],\n",
        "    'rainfall': [5.0, 1.0, 15.0],\n",
        "    'temperature': [25.0, 30.0, 20.0],\n",
        "    'humidity': [60.0, 40.0, 85.0],\n",
        "    'wind_speed': [5.0, 10.0, 7.0]\n",
        "})\n",
        "\n",
        "# Scale the new data using the same scaler fitted on the training data\n",
        "new_data_scaled = scaler.transform(new_data)\n",
        "\n",
        "# Make predictions\n",
        "predictions = model.predict(new_data_scaled)\n",
        "\n",
        "# Get the predicted class (index of the highest probability)\n",
        "predicted_classes_encoded = np.argmax(predictions, axis=1)\n",
        "\n",
        "# Inverse transform the predicted classes to get the original labels\n",
        "predicted_weather_conditions = le.inverse_transform(predicted_classes_encoded)\n",
        "\n",
        "print(\"Predictions for new data:\")\n",
        "print(predicted_weather_conditions)"
      ],
      "execution_count": null,
      "outputs": [
        {
          "output_type": "stream",
          "name": "stdout",
          "text": [
            "\u001b[1m1/1\u001b[0m \u001b[32m━━━━━━━━━━━━━━━━━━━━\u001b[0m\u001b[37m\u001b[0m \u001b[1m0s\u001b[0m 71ms/step\n",
            "Predictions for new data:\n",
            "['Rainy' 'Rainy' 'Rainy']\n"
          ]
        }
      ]
    },
    {
      "cell_type": "code",
      "source": [
        "#save the model\n",
        "model.save(\"kenya_water.keras\")\n",
        "print(\"💾 Model saved as 'kenya_water.keras'\")"
      ],
      "metadata": {
        "colab": {
          "base_uri": "https://localhost:8080/"
        },
        "id": "P7Z6i8tPp-1r",
        "outputId": "ab54691a-6ffd-49a5-861d-1c5512c2ad15"
      },
      "execution_count": null,
      "outputs": [
        {
          "output_type": "stream",
          "name": "stdout",
          "text": [
            "💾 Model saved as 'kenya_water.keras'\n"
          ]
        }
      ]
    },
    {
      "cell_type": "code",
      "source": [
        "import joblib\n",
        "\n",
        "# Save your trained model\n",
        "model.save(\"kenya_water.keras\")\n",
        "\n",
        "# Save your scaler\n",
        "joblib.dump(scaler, \"scaler.pkl\")\n",
        "\n",
        "print(\"✅ Model and scaler saved successfully.\")\n"
      ],
      "metadata": {
        "colab": {
          "base_uri": "https://localhost:8080/"
        },
        "id": "ja2UZWBzRjzT",
        "outputId": "5f53afdb-aefd-4d8a-cbf5-297cf84b8bc9"
      },
      "execution_count": null,
      "outputs": [
        {
          "output_type": "stream",
          "name": "stdout",
          "text": [
            "✅ Model and scaler saved successfully.\n"
          ]
        }
      ]
    },
    {
      "cell_type": "code",
      "source": [
        "# =========================================================\n",
        "# 💧 AI for Tackling Water Scarcity in Kenya (Full App)\n",
        "# =========================================================\n",
        "%%writefile app.py\n",
        "\n",
        "import streamlit as st\n",
        "import numpy as np\n",
        "import pandas as pd\n",
        "import joblib\n",
        "import pydeck as pdk\n",
        "from tensorflow.keras.models import load_model\n",
        "\n",
        "# ---------------------------------------------------------\n",
        "# Load model and scaler\n",
        "# ---------------------------------------------------------\n",
        "@st.cache_resource\n",
        "def load_artifacts():\n",
        "    model = load_model(\"kenya_water.keras\")\n",
        "    scaler = joblib.load(\"scaler.pkl\")\n",
        "    return model, scaler\n",
        "\n",
        "model, scaler = load_artifacts()\n",
        "labels = ['Sunny', 'Rainy']\n",
        "\n",
        "# ---------------------------------------------------------\n",
        "# County rainfall baselines (approximate averages)\n",
        "# ---------------------------------------------------------\n",
        "county_baseline = {\n",
        "    \"Turkana\": 15.0, \"Marsabit\": 30.0, \"Garissa\": 25.0, \"Wajir\": 35.0,\n",
        "    \"Mandera\": 40.0, \"Machakos\": 80.0, \"Kitui\": 60.0, \"Nakuru\": 100.0,\n",
        "    \"Nyeri\": 120.0, \"Kisumu\": 150.0, \"Nairobi\": 110.0, \"Mombasa\": 160.0,\n",
        "    \"Kwale\": 140.0, \"Narok\": 90.0, \"Baringo\": 75.0,\n",
        "}\n",
        "\n",
        "# County coordinates\n",
        "county_coords = {\n",
        "    \"Turkana\": [3.121, 35.596], \"Marsabit\": [2.34, 37.99], \"Garissa\": [0.456, 39.646],\n",
        "    \"Wajir\": [1.747, 40.057], \"Mandera\": [3.937, 41.856], \"Machakos\": [-1.517, 37.263],\n",
        "    \"Kitui\": [-1.367, 38.010], \"Nakuru\": [-0.303, 36.080], \"Nyeri\": [-0.420, 36.950],\n",
        "    \"Kisumu\": [-0.0917, 34.768], \"Nairobi\": [-1.286, 36.817], \"Mombasa\": [-4.043, 39.668],\n",
        "    \"Kwale\": [-4.173, 39.452], \"Narok\": [-1.085, 35.871], \"Baringo\": [0.678, 35.967],\n",
        "}\n",
        "\n",
        "# ---------------------------------------------------------\n",
        "# Streamlit Page Setup\n",
        "# ---------------------------------------------------------\n",
        "st.set_page_config(page_title=\"Kenya Water AI\", page_icon=\"💧\", layout=\"wide\")\n",
        "\n",
        "st.title(\"💧 AI for Tackling Water Scarcity in Kenya\")\n",
        "st.markdown(\"\"\"\n",
        "This app uses an **AI Neural Network** trained on Kenyan regional data\n",
        "to predict **Weather Conditions** (Sunny/Rainy) based on rainfall and climate variables.\n",
        "\n",
        "🔹 Supports **SDG 6: Clean Water and Sanitation**\n",
        "🔹 Supports **SDG 13: Climate Action**\n",
        "\"\"\")\n",
        "\n",
        "# ---------------------------------------------------------\n",
        "# User Inputs\n",
        "# ---------------------------------------------------------\n",
        "st.header(\"📍 Predict Regional Weather Condition\")\n",
        "\n",
        "col1, col2 = st.columns(2)\n",
        "with col1:\n",
        "    county = st.selectbox(\"Select County\", sorted(county_baseline.keys()))\n",
        "with col2:\n",
        "    rainfall_mm = st.number_input(\"Monthly Rainfall (mm)\", min_value=0.0, max_value=1000.0, value=float(county_baseline[county]))\n",
        "\n",
        "col3, col4, col5 = st.columns(3)\n",
        "with col3:\n",
        "    year = st.number_input(\"Year\", min_value=1980, max_value=2035, value=2025)\n",
        "with col4:\n",
        "    month = st.number_input(\"Month (1-12)\", min_value=1, max_value=12, value=10)\n",
        "with col5:\n",
        "    wind_speed = st.number_input(\"Wind Speed (km/h)\", min_value=0.0, max_value=50.0, value=5.0)\n",
        "\n",
        "temperature = st.slider(\"🌡️ Average Temperature (°C)\", 10.0, 40.0, 25.0)\n",
        "humidity = st.slider(\"💨 Humidity (%)\", 10.0, 100.0, 60.0)\n",
        "\n",
        "# ---------------------------------------------------------\n",
        "# Predict selected county's weather\n",
        "# ---------------------------------------------------------\n",
        "input_data = np.array([[year, month, temperature, humidity, wind_speed, rainfall_mm]])\n",
        "input_scaled = scaler.transform(input_data)\n",
        "prediction = model.predict(input_scaled)\n",
        "predicted_class = np.argmax(prediction)\n",
        "availability = labels[predicted_class]\n",
        "\n",
        "st.success(f\"🌍 County: **{county}** → 💧 Predicted Weather: **{availability}**\")\n",
        "\n",
        "st.bar_chart(pd.DataFrame(prediction, columns=labels))\n",
        "\n",
        "if availability == \"Sunny\":\n",
        "    st.info(\"☀️ Expected weather is **Sunny**. Water scarcity may increase — consider conservation measures.\")\n",
        "else:\n",
        "    st.warning(\"🌧️ Expected weather is **Rainy**. Ensure water harvesting and flood management systems are ready.\")\n",
        "    # ---------------------------------------------------------\n",
        "# 🌍 Dynamic Kenya Weather Map with Auto-Zoom + Summary Card\n",
        "# ---------------------------------------------------------\n",
        "\n",
        "st.header(\"🗺️ Interactive Kenya Weather Prediction Map\")\n",
        "\n",
        "# Dropdown for user to focus on a specific county\n",
        "selected_county = st.selectbox(\n",
        "    \"🔎 Choose a county to focus on:\",\n",
        "    options=[\"All Counties\"] + list(county_coords.keys()),\n",
        "    index=0\n",
        ")\n",
        "\n",
        "# --- Function to generate predictions ---\n",
        "def generate_map_data(year, month, temperature, humidity, wind_speed, rainfall):\n",
        "    data = []\n",
        "    for cty, (lat, lon) in county_coords.items():\n",
        "        baseline_rainfall = county_baseline[cty]\n",
        "        rainfall_input = rainfall or baseline_rainfall\n",
        "\n",
        "        x = np.array([[year, month, temperature, humidity, wind_speed, rainfall_input]])\n",
        "        x_scaled = scaler.transform(x)\n",
        "        pred = model.predict(x_scaled)\n",
        "        pred_class = np.argmax(pred)\n",
        "        condition = labels[pred_class]\n",
        "\n",
        "        color = [255, 210, 0] if condition == \"Sunny\" else [0, 140, 255]\n",
        "\n",
        "        data.append({\n",
        "            \"County\": cty,\n",
        "            \"Latitude\": lat,\n",
        "            \"Longitude\": lon,\n",
        "            \"Condition\": condition,\n",
        "            \"Rainfall (mm)\": round(rainfall_input, 1),\n",
        "            \"Temperature (°C)\": temperature,\n",
        "            \"color\": color\n",
        "        })\n",
        "    return pd.DataFrame(data)\n",
        "\n",
        "# Generate prediction data\n",
        "df_map = generate_map_data(year, month, temperature, humidity, wind_speed, rainfall_mm)\n",
        "\n",
        "# Determine zoom + center dynamically\n",
        "if selected_county != \"All Counties\":\n",
        "    focus_lat, focus_lon = county_coords[selected_county]\n",
        "    zoom_level = 8.5\n",
        "else:\n",
        "    focus_lat, focus_lon = 0.2, 37.8\n",
        "    zoom_level = 6.5\n",
        "\n",
        "# --- Layout for Map and Summary Card ---\n",
        "col_map, col_info = st.columns([3, 1])\n",
        "\n",
        "# 🗺️ Display Interactive Map\n",
        "with col_map:\n",
        "    st.pydeck_chart(\n",
        "        pdk.Deck(\n",
        "            map_style=\"mapbox://styles/mapbox/dark-v10\",\n",
        "            initial_view_state=pdk.ViewState(\n",
        "                latitude=focus_lat,\n",
        "                longitude=focus_lon,\n",
        "                zoom=zoom_level,\n",
        "                pitch=50,\n",
        "                bearing=20\n",
        "            ),\n",
        "            layers=[\n",
        "                pdk.Layer(\n",
        "                    \"ScatterplotLayer\",\n",
        "                    data=df_map,\n",
        "                    get_position='[Longitude, Latitude]',\n",
        "                    get_fill_color='color',\n",
        "                    get_radius=70000,\n",
        "                    pickable=True,\n",
        "                    opacity=0.9\n",
        "                ),\n",
        "                pdk.Layer(\n",
        "                    \"TextLayer\",\n",
        "                    data=df_map,\n",
        "                    get_position='[Longitude, Latitude]',\n",
        "                    get_text=\"County\",\n",
        "                    get_color=[255, 255, 255],\n",
        "                    get_size=16,\n",
        "                    get_alignment_baseline=\"'bottom'\"\n",
        "                ),\n",
        "            ],\n",
        "            tooltip={\"text\": \"{County}\\nCondition: {Condition}\\nRainfall: {Rainfall (mm)} mm\"}\n",
        "        )\n",
        "    )\n",
        "\n",
        "\n",
        "# 🧾 Display Summary Card\n",
        "with col_info:\n",
        "    st.subheader(\"📋 County Summary\")\n",
        "    if selected_county == \"All Counties\":\n",
        "        st.info(\"Select a county to view detailed predictions.\")\n",
        "    else:\n",
        "        selected_data = df_map[df_map[\"County\"] == selected_county].iloc[0]\n",
        "        condition = selected_data[\"Condition\"]\n",
        "        rain = selected_data[\"Rainfall (mm)\"]\n",
        "        temp = selected_data[\"Temperature (°C)\"]\n",
        "\n",
        "        st.metric(\"🌍 County\", selected_county)\n",
        "        st.metric(\"🌤️ Condition\", condition)\n",
        "        st.metric(\"🌧️ Rainfall (mm)\", f\"{rain}\")\n",
        "        st.metric(\"🌡️ Temperature (°C)\", f\"{temp}\")\n",
        "        if condition == \"Rainy\":\n",
        "            st.warning(\"☔ Expect wet conditions — possible heavy showers.\")\n",
        "        else:\n",
        "            st.success(\"☀️ Sunny and clear — minimal rainfall expected.\")\n",
        "\n",
        "st.caption(\n",
        "    \"💡 Select a county to zoom in and see AI-predicted conditions. \"\n",
        "    \"The summary updates instantly with temperature and rainfall.\"\n",
        ")\n",
        "\n",
        "# ---------------------------------------------------------\n",
        "# 📊 Explore County Rainfall & Temperature Patterns\n",
        "# ---------------------------------------------------------\n",
        "st.header(\"📊 Explore County Rainfall & Weather Patterns\")\n",
        "\n",
        "weather_data = {\n",
        "    \"Turkana\":  {\"rainfall\": [10, 12, 15, 14, 18, 10, 8, 5, 7, 9, 11, 13],\n",
        "                 \"temperature\": [34, 35, 36, 37, 38, 39, 38, 37, 36, 35, 34, 33]},\n",
        "    \"Nairobi\":  {\"rainfall\": [100, 80, 60, 40, 50, 20, 30, 70, 90, 120, 110, 95],\n",
        "                 \"temperature\": [27, 26, 25, 23, 22, 21, 22, 23, 25, 26, 27, 28]},\n",
        "    \"Mombasa\":  {\"rainfall\": [160, 140, 150, 130, 120, 100, 90, 110, 130, 150, 170, 180],\n",
        "                 \"temperature\": [30, 31, 31, 30, 29, 28, 27, 28, 29, 30, 31, 32]},\n",
        "    \"Kisumu\":   {\"rainfall\": [120, 100, 80, 60, 70, 90, 110, 130, 140, 160, 170, 150],\n",
        "                 \"temperature\": [29, 28, 27, 26, 25, 26, 27, 28, 29, 30, 30, 29]},\n",
        "}\n",
        "\n",
        "col1, col2 = st.columns(2)\n",
        "with col1:\n",
        "    county_a = st.selectbox(\"Select County A\", weather_data.keys(), index=0)\n",
        "with col2:\n",
        "    county_b = st.selectbox(\"Select County B\", weather_data.keys(), index=1)\n",
        "\n",
        "df_a = pd.DataFrame({\n",
        "    \"Month\": list(range(1, 13)),\n",
        "    \"Rainfall (mm)\": weather_data[county_a][\"rainfall\"],\n",
        "    \"Temperature (°C)\": weather_data[county_a][\"temperature\"],\n",
        "    \"County\": county_a\n",
        "})\n",
        "df_b = pd.DataFrame({\n",
        "    \"Month\": list(range(1, 13)),\n",
        "    \"Rainfall (mm)\": weather_data[county_b][\"rainfall\"],\n",
        "    \"Temperature (°C)\": weather_data[county_b][\"temperature\"],\n",
        "    \"County\": county_b\n",
        "})\n",
        "combined_df = pd.concat([df_a, df_b])\n",
        "\n",
        "st.subheader(\"🌧️ Monthly Rainfall Comparison\")\n",
        "st.line_chart(combined_df.pivot(index=\"Month\", columns=\"County\", values=\"Rainfall (mm)\"))\n",
        "\n",
        "st.subheader(\"🔥 Monthly Temperature Comparison\")\n",
        "st.line_chart(combined_df.pivot(index=\"Month\", columns=\"County\", values=\"Temperature (°C)\"))\n",
        "\n",
        "month_selected = st.slider(\"Select Month\", 1, 12, 6)\n",
        "st.write(f\"📅 **Month {month_selected}** Climate Snapshot:\")\n",
        "\n",
        "rainfall_a = weather_data[county_a][\"rainfall\"][month_selected - 1]\n",
        "rainfall_b = weather_data[county_b][\"rainfall\"][month_selected - 1]\n",
        "temp_a = weather_data[county_a][\"temperature\"][month_selected - 1]\n",
        "temp_b = weather_data[county_b][\"temperature\"][month_selected - 1]\n",
        "\n",
        "col1, col2 = st.columns(2)\n",
        "with col1:\n",
        "    st.metric(f\"{county_a} Rainfall (mm)\", rainfall_a)\n",
        "    st.metric(f\"{county_a} Temp (°C)\", temp_a)\n",
        "with col2:\n",
        "    st.metric(f\"{county_b} Rainfall (mm)\", rainfall_b)\n",
        "    st.metric(f\"{county_b} Temp (°C)\", temp_b)\n",
        "\n",
        "st.caption(\"💡 Compare rainfall and temperature patterns across counties to identify climate risks and plan water management.\")\n",
        "\n",
        "# ---------------------------------------------------------\n",
        "# Footer\n",
        "# ---------------------------------------------------------\n",
        "st.markdown(\"---\")\n",
        "st.write(\"👩‍💻 Developed as part of an AI for Sustainability project — addressing **SDG 6** & **SDG 13**.\")\n",
        "\n",
        "\n",
        "\n",
        "\n"
      ],
      "metadata": {
        "colab": {
          "base_uri": "https://localhost:8080/"
        },
        "id": "SejU1uuPS0o1",
        "outputId": "3e37dd14-56b8-44bb-9ce3-408fa0631c18"
      },
      "execution_count": null,
      "outputs": [
        {
          "output_type": "stream",
          "name": "stdout",
          "text": [
            "Overwriting app.py\n"
          ]
        }
      ]
    },
    {
      "cell_type": "code",
      "source": [
        "%%writefile requirements.txt\n",
        "\n",
        "# ===== Core Libraries =====\n",
        "numpy==1.26.4\n",
        "pandas==2.2.3\n",
        "\n",
        "# ===== Machine Learning =====\n",
        "tensorflow==2.17.0\n",
        "scikit-learn==1.5.2\n",
        "joblib==1.4.2\n",
        "\n",
        "# ===== Visualization =====\n",
        "matplotlib==3.9.2\n",
        "plotly==5.24.0\n",
        "folium==0.17.0\n",
        "\n",
        "# ===== Web App =====\n",
        "streamlit==1.39.0\n",
        "pyngrok==7.1.6\n",
        "\n"
      ],
      "metadata": {
        "colab": {
          "base_uri": "https://localhost:8080/"
        },
        "id": "2DIDUJbeUCtM",
        "outputId": "8d683afd-7b66-448f-d925-d0cb8ce7e843"
      },
      "execution_count": null,
      "outputs": [
        {
          "output_type": "stream",
          "name": "stdout",
          "text": [
            "Overwriting requirements.txt\n"
          ]
        }
      ]
    },
    {
      "cell_type": "code",
      "source": [
        "%%writefile kenya_rainfall_data.csv\n",
        "Month,Rainfall (mm)\n",
        "Jan,82\n",
        "Feb,40\n",
        "Mar,120\n",
        "Apr,200\n",
        "May,180\n",
        "Jun,90\n",
        "Jul,75\n",
        "Aug,60\n",
        "Sep,55\n",
        "Oct,130\n",
        "Nov,170\n",
        "Dec,140\n"
      ],
      "metadata": {
        "colab": {
          "base_uri": "https://localhost:8080/"
        },
        "id": "kvvGsl6wVF_2",
        "outputId": "e20a78e2-40a1-4692-9429-f70c3d8b9de1"
      },
      "execution_count": null,
      "outputs": [
        {
          "output_type": "stream",
          "name": "stdout",
          "text": [
            "Writing kenya_rainfall_data.csv\n"
          ]
        }
      ]
    },
    {
      "cell_type": "code",
      "metadata": {
        "colab": {
          "base_uri": "https://localhost:8080/"
        },
        "id": "8a68fa0c",
        "outputId": "472dedd2-319c-4182-8ba2-dc2d27776434"
      },
      "source": [
        "# ======================================\n",
        "# ✅ Clean install for Colab (no conflicts)\n",
        "# ======================================\n",
        "\n",
        "!pip install -q \\\n",
        "    streamlit==1.39.0 \\\n",
        "    tensorflow==2.19.0 \\\n",
        "    scikit-learn==1.6.0 \\\n",
        "    joblib==1.4.2 \\\n",
        "    matplotlib==3.9.2 \\\n",
        "    plotly==5.24.0 \\\n",
        "    folium==0.17.0 \\\n",
        "    pyngrok==7.1.6\n",
        "\n"
      ],
      "execution_count": null,
      "outputs": [
        {
          "output_type": "stream",
          "name": "stdout",
          "text": [
            "\u001b[2K   \u001b[90m━━━━━━━━━━━━━━━━━━━━━━━━━━━━━━━━━━━━━━━━\u001b[0m \u001b[32m645.0/645.0 MB\u001b[0m \u001b[31m3.1 MB/s\u001b[0m eta \u001b[36m0:00:00\u001b[0m\n",
            "\u001b[2K   \u001b[90m━━━━━━━━━━━━━━━━━━━━━━━━━━━━━━━━━━━━━━━━\u001b[0m \u001b[32m13.1/13.1 MB\u001b[0m \u001b[31m59.6 MB/s\u001b[0m eta \u001b[36m0:00:00\u001b[0m\n",
            "\u001b[2K   \u001b[90m━━━━━━━━━━━━━━━━━━━━━━━━━━━━━━━━━━━━━━━━\u001b[0m \u001b[32m4.9/4.9 MB\u001b[0m \u001b[31m66.3 MB/s\u001b[0m eta \u001b[36m0:00:00\u001b[0m\n",
            "\u001b[2K   \u001b[90m━━━━━━━━━━━━━━━━━━━━━━━━━━━━━━━━━━━━━━━━\u001b[0m \u001b[32m5.5/5.5 MB\u001b[0m \u001b[31m80.1 MB/s\u001b[0m eta \u001b[36m0:00:00\u001b[0m\n",
            "\u001b[?25h"
          ]
        }
      ]
    },
    {
      "cell_type": "code",
      "source": [
        "\n",
        "\n",
        "# ===== Import pyngrok and OS =====\n",
        "from pyngrok import ngrok\n",
        "import os\n",
        "\n",
        "# ===== Kill any existing tunnels =====\n",
        "ngrok.kill()\n",
        "\n",
        "# ===== Define Streamlit port =====\n",
        "port = 8501\n",
        "\n",
        "# ===== Run Streamlit app in background =====\n",
        "# ⚠️ Make sure your file is named \"app.py\"\n",
        "os.system(f\"streamlit run app.py --server.port {port} &\")\n",
        "\n",
        "# ===== Create a new public Ngrok URL =====\n",
        "public_url = ngrok.connect(port)\n",
        "print(\"\\n✅ Your Streamlit app is live here:\\n\", public_url)\n"
      ],
      "metadata": {
        "id": "hmfrSoIWw9qb"
      },
      "execution_count": null,
      "outputs": []
    },
    {
      "cell_type": "code",
      "source": [
        "from pyngrok import ngrok\n",
        "\n",
        "# 🔑 Replace YOUR_TOKEN_HERE with your actual token\n",
        "!ngrok config add-authtoken 346qrzuiV7eMzdSwS5DywUEoL9i_UwM3rtKhvZykDBoGfQcn\n"
      ],
      "metadata": {
        "colab": {
          "base_uri": "https://localhost:8080/"
        },
        "id": "3p4g1cTqp4Du",
        "outputId": "f1c87bdf-5a3c-4310-a7b7-2859d0bd6073"
      },
      "execution_count": null,
      "outputs": [
        {
          "output_type": "stream",
          "name": "stdout",
          "text": [
            "Authtoken saved to configuration file: /root/.config/ngrok/ngrok.yml\n"
          ]
        }
      ]
    },
    {
      "cell_type": "code",
      "source": [
        "!pip install streamlit pyngrok -q\n",
        "\n",
        "from pyngrok import ngrok\n",
        "import time\n",
        "\n",
        "ngrok.kill()\n",
        "\n",
        "public_url = ngrok.connect(8501)\n",
        "print(\"🌍 Your Streamlit App is Live Here:\", public_url)\n",
        "\n",
        "!streamlit run app.py &>/dev/null&\n",
        "time.sleep(5)\n",
        "print(\"✅ Streamlit app started successfully! Visit the link above 👆\")\n"
      ],
      "metadata": {
        "colab": {
          "base_uri": "https://localhost:8080/"
        },
        "id": "UpPqrseNqPQb",
        "outputId": "1ad0a476-8fdd-42b5-f40f-212adcf6d84a"
      },
      "execution_count": null,
      "outputs": [
        {
          "output_type": "stream",
          "name": "stdout",
          "text": [
            "🌍 Your Streamlit App is Live Here: NgrokTunnel: \"https://nondependably-superfine-carlie.ngrok-free.dev\" -> \"http://localhost:8501\"\n",
            "✅ Streamlit app started successfully! Visit the link above 👆\n"
          ]
        }
      ]
    },
    {
      "cell_type": "code",
      "source": [
        "import joblib\n",
        "scaler = joblib.load(\"scaler.pkl\")\n",
        "print(\"Scaler expects:\", scaler.n_features_in_, \"features\")\n"
      ],
      "metadata": {
        "id": "Ue-K34ZUqVJ8",
        "colab": {
          "base_uri": "https://localhost:8080/"
        },
        "outputId": "b83dd903-92f0-46db-abfb-442802ebc744"
      },
      "execution_count": null,
      "outputs": [
        {
          "output_type": "stream",
          "name": "stdout",
          "text": [
            "Scaler expects: 6 features\n"
          ]
        }
      ]
    },
    {
      "cell_type": "code",
      "source": [
        "from google.colab import files\n",
        "!zip -r kenya_water_ai.zip app.py requirements.txt scaler.pkl kenya_water.keras\n",
        "files.download('kenya_water_ai.zip')\n"
      ],
      "metadata": {
        "colab": {
          "base_uri": "https://localhost:8080/",
          "height": 90
        },
        "id": "XwhzJZ2_zAu7",
        "outputId": "aa444653-d4b7-461e-c63f-b6d45bb64c97"
      },
      "execution_count": null,
      "outputs": [
        {
          "output_type": "stream",
          "name": "stdout",
          "text": [
            "  adding: app.py (deflated 67%)\n",
            "  adding: requirements.txt (deflated 33%)\n",
            "  adding: scaler.pkl (deflated 37%)\n",
            "  adding: kenya_water.keras (deflated 45%)\n"
          ]
        },
        {
          "output_type": "display_data",
          "data": {
            "text/plain": [
              "<IPython.core.display.Javascript object>"
            ],
            "application/javascript": [
              "\n",
              "    async function download(id, filename, size) {\n",
              "      if (!google.colab.kernel.accessAllowed) {\n",
              "        return;\n",
              "      }\n",
              "      const div = document.createElement('div');\n",
              "      const label = document.createElement('label');\n",
              "      label.textContent = `Downloading \"${filename}\": `;\n",
              "      div.appendChild(label);\n",
              "      const progress = document.createElement('progress');\n",
              "      progress.max = size;\n",
              "      div.appendChild(progress);\n",
              "      document.body.appendChild(div);\n",
              "\n",
              "      const buffers = [];\n",
              "      let downloaded = 0;\n",
              "\n",
              "      const channel = await google.colab.kernel.comms.open(id);\n",
              "      // Send a message to notify the kernel that we're ready.\n",
              "      channel.send({})\n",
              "\n",
              "      for await (const message of channel.messages) {\n",
              "        // Send a message to notify the kernel that we're ready.\n",
              "        channel.send({})\n",
              "        if (message.buffers) {\n",
              "          for (const buffer of message.buffers) {\n",
              "            buffers.push(buffer);\n",
              "            downloaded += buffer.byteLength;\n",
              "            progress.value = downloaded;\n",
              "          }\n",
              "        }\n",
              "      }\n",
              "      const blob = new Blob(buffers, {type: 'application/binary'});\n",
              "      const a = document.createElement('a');\n",
              "      a.href = window.URL.createObjectURL(blob);\n",
              "      a.download = filename;\n",
              "      div.appendChild(a);\n",
              "      a.click();\n",
              "      div.remove();\n",
              "    }\n",
              "  "
            ]
          },
          "metadata": {}
        },
        {
          "output_type": "display_data",
          "data": {
            "text/plain": [
              "<IPython.core.display.Javascript object>"
            ],
            "application/javascript": [
              "download(\"download_ebdb1f59-0d48-4675-8a1d-c2d2be7a0be1\", \"kenya_water_ai.zip\", 37212)"
            ]
          },
          "metadata": {}
        }
      ]
    }
  ]
}